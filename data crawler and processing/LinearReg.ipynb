{
 "cells": [
  {
   "cell_type": "code",
   "execution_count": 1,
   "metadata": {},
   "outputs": [],
   "source": [
    "import pandas as pd\n",
    "from sklearn.linear_model import Lasso, LassoCV\n",
    "from sklearn.model_selection import train_test_split"
   ]
  },
  {
   "cell_type": "code",
   "execution_count": 2,
   "metadata": {},
   "outputs": [],
   "source": [
    "def linearReg(ticker):      \n",
    "    df = pd.read_csv(ticker+'_weighted_joined.csv', index_col=0)\n",
    "    cvar = [\"day\", ]\n",
    "    df[cvar] = df[cvar].astype('category')\n",
    "    df = pd.get_dummies(df, prefix_sep='_')\n",
    "    \n",
    "    df2 = df.copy()\n",
    "    rdummies = [\"day_0\"]\n",
    "    df2 = df2.drop(columns=rdummies)\n",
    "\n",
    "    df3 = df2.copy()\n",
    "    \n",
    "    testpart_size = 0.2\n",
    "    df_nontestData, df_testData = train_test_split(df3, test_size=testpart_size, random_state=1)\n",
    "    \n",
    "    DV = 'Movement'\n",
    "    y = df_nontestData[DV]\n",
    "    X = df_nontestData.drop(columns=[DV])\n",
    "    \n",
    "    kfolds = 5\n",
    "    clf_optimal = LassoCV(cv= kfolds, random_state=1, n_jobs=-1).fit(X,y)\n",
    "\n",
    "    def summary_coef(model_object):\n",
    "        n_predictors = X.shape[1]\n",
    "        model_coef = pd.DataFrame(model_object.coef_.reshape(1, n_predictors), columns=X.columns.values)\n",
    "        model_coef['Intercept'] = model_object.intercept_\n",
    "        return model_coef.transpose()\n",
    "    \n",
    "    print(summary_coef(clf_optimal ))\n",
    "    return clf_optimal"
   ]
  },
  {
   "cell_type": "code",
   "execution_count": 3,
   "metadata": {},
   "outputs": [
    {
     "name": "stdout",
     "output_type": "stream",
     "text": [
      "                  0\n",
      "score     -2.049171\n",
      "day_1      1.069732\n",
      "day_2      1.290476\n",
      "day_3      0.245360\n",
      "day_6      3.355953\n",
      "Intercept -0.566053\n"
     ]
    },
    {
     "data": {
      "text/plain": [
       "LassoCV(cv=5, n_jobs=-1, random_state=1)"
      ]
     },
     "execution_count": 3,
     "metadata": {},
     "output_type": "execute_result"
    }
   ],
   "source": [
    "linearReg(\"TSLA\")"
   ]
  },
  {
   "cell_type": "code",
   "execution_count": 4,
   "metadata": {},
   "outputs": [],
   "source": [
    "def linearRegPredict(ticker):\n",
    "    clf_optimal = linearReg(\"TSLA\")\n",
    "    df = pd.read_csv(ticker+\"_test.csv\",index_col=0)\n",
    "    cvar = [\"day\"]\n",
    "    df[cvar] = df[cvar].astype('category')\n",
    "    df = pd.get_dummies(df, prefix_sep='_')\n",
    "    \n",
    "    df2 = df.copy()\n",
    "    rdummies = [\"day_0\"]\n",
    "    df2 = df2.drop(columns=rdummies)\n",
    "    \n",
    "    predicted_results = clf_optimal.predict(df2)\n",
    "    print(predicted_results)\n",
    "    \n",
    "    logReg = pd.DataFrame(predicted_results)\n",
    "    logReg.to_excel(ticker+\"_linearReg.xlsx\")"
   ]
  },
  {
   "cell_type": "code",
   "execution_count": 5,
   "metadata": {},
   "outputs": [
    {
     "name": "stdout",
     "output_type": "stream",
     "text": [
      "                  0\n",
      "score     -2.049171\n",
      "day_1      1.069732\n",
      "day_2      1.290476\n",
      "day_3      0.245360\n",
      "day_6      3.355953\n",
      "Intercept -0.566053\n",
      "[ 0.52714652 -0.5662152   2.52465304 -0.92517884 -0.31703178  0.10981467\n",
      " -1.68204871  2.20052318 -1.11732826  0.30625918  0.33310984 -0.8515908\n",
      "  2.53222257 -0.11877157 -0.20505895  0.29668766  0.03112908  3.37428406\n",
      " -1.29575026  0.28287235  0.32619539 -1.40387262]\n"
     ]
    }
   ],
   "source": [
    "linearRegPredict(\"TSLA\")"
   ]
  },
  {
   "cell_type": "code",
   "execution_count": 6,
   "metadata": {},
   "outputs": [
    {
     "name": "stdout",
     "output_type": "stream",
     "text": [
      "                  0\n",
      "score     -2.049171\n",
      "day_1      1.069732\n",
      "day_2      1.290476\n",
      "day_3      0.245360\n",
      "day_6      3.355953\n",
      "Intercept -0.566053\n",
      "[ 0.29010417 -1.21517873  2.42935442 -0.84353593  0.13997946  0.49633349\n",
      " -1.65295557  3.11715736 -0.90101203  0.12465862  0.76464729 -0.53348261\n",
      "  2.70794659 -0.5258155   0.11574833  0.60256941 -0.68408926  2.57647465\n",
      " -1.0640957   0.29947318  0.78680776 -0.36404032]\n"
     ]
    }
   ],
   "source": [
    "linearRegPredict(\"NIO\")"
   ]
  },
  {
   "cell_type": "code",
   "execution_count": 7,
   "metadata": {},
   "outputs": [
    {
     "name": "stdout",
     "output_type": "stream",
     "text": [
      "                  0\n",
      "score     -2.049171\n",
      "day_1      1.069732\n",
      "day_2      1.290476\n",
      "day_3      0.245360\n",
      "day_6      3.355953\n",
      "Intercept -0.566053\n",
      "[ 0.78093305 -0.91027911  2.78009319 -0.57778435  0.48611964  0.80299036\n",
      " -1.74795166  2.43520014 -0.61942227  0.25906591  0.41325197 -0.55349296\n",
      "  2.46265425 -0.81398379  0.25729283 -0.46866878 -0.45788881  2.64899791\n",
      " -0.47395191  0.37395585  0.36797004 -0.44484771]\n"
     ]
    }
   ],
   "source": [
    "linearRegPredict(\"MSFT\")"
   ]
  },
  {
   "cell_type": "code",
   "execution_count": 8,
   "metadata": {},
   "outputs": [
    {
     "name": "stdout",
     "output_type": "stream",
     "text": [
      "                  0\n",
      "score     -2.049171\n",
      "day_1      1.069732\n",
      "day_2      1.290476\n",
      "day_3      0.245360\n",
      "day_6      3.355953\n",
      "Intercept -0.566053\n",
      "[ 0.78096509 -0.91019763  2.78017303 -0.57778944  0.48619072  0.80297495\n",
      " -1.75173883  2.43518774 -0.61941154  0.25911498  0.41323476 -0.55348098\n",
      "  2.4626263  -0.8139667   0.25730845 -0.46866009 -0.45783144  2.6489966\n",
      " -0.47407272  0.37396196  0.36094233 -0.44487022]\n"
     ]
    }
   ],
   "source": [
    "linearRegPredict(\"AAPL\")"
   ]
  },
  {
   "cell_type": "code",
   "execution_count": null,
   "metadata": {},
   "outputs": [],
   "source": []
  }
 ],
 "metadata": {
  "kernelspec": {
   "display_name": "Python 3",
   "language": "python",
   "name": "python3"
  },
  "language_info": {
   "codemirror_mode": {
    "name": "ipython",
    "version": 3
   },
   "file_extension": ".py",
   "mimetype": "text/x-python",
   "name": "python",
   "nbconvert_exporter": "python",
   "pygments_lexer": "ipython3",
   "version": "3.8.3"
  }
 },
 "nbformat": 4,
 "nbformat_minor": 4
}
