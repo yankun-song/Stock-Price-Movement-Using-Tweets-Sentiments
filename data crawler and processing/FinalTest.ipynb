{
 "cells": [
  {
   "cell_type": "code",
   "execution_count": 21,
   "metadata": {},
   "outputs": [],
   "source": [
    "import pandas as pd"
   ]
  },
  {
   "cell_type": "code",
   "execution_count": 43,
   "metadata": {},
   "outputs": [],
   "source": [
    "def allbuy(ticker, df):\n",
    "    count1 = 0\n",
    "    for i in range(0, len(df)):\n",
    "        if df.loc[i, \"Open\"] > df.loc[i, \"Adj Close\"] :\n",
    "            count1 += 1\n",
    "\n",
    "    accuracy1 = count1 / len(df) * 100\n",
    "    #print(\"The accuracy of all buying \" + ticker + \" is \" + str(accuracy1) + \"%.\")\n",
    "    \n",
    "    \n",
    "    cost1 = df[\"Open\"].sum()\n",
    "    profit1 = df[\"Adj Close\"].sum()\n",
    "    return1 = (profit1 - cost1) / cost1 * len(df)  * 100\n",
    "    print(\"The final return rate of all buying \" + ticker + \" is \" + str(return1) + \"%.\")\n",
    "    \n",
    "#     cost2 = df[\"Adj Close\"].sum()\n",
    "#     profit2 = df[\"Open\"].sum()\n",
    "#     return2 = (profit2 - cost2) / cost2 * 100\n",
    "    #print(\"The final return rate of all shorting \" + ticker + \" is \" + str(return2) + \"%.\")"
   ]
  },
  {
   "cell_type": "code",
   "execution_count": 44,
   "metadata": {},
   "outputs": [],
   "source": [
    "def check(ticker, df, method):\n",
    "    count2 = 0\n",
    "    for i in range(0, len(df)):\n",
    "        if df.loc[i, \"Open\"] > df.loc[i, \"Adj Close\"] and df.loc[i, method] == 1:\n",
    "            count2 += 1\n",
    "        elif df.loc[i, \"Open\"] < df.loc[i, \"Adj Close\"] and df.loc[i, method] == 0:\n",
    "            count2 += 1\n",
    "    accuracy2 = count2 / len(df) * 100\n",
    "    #print(\"The accuracy of \" + method + \" for \" + ticker + \" is \" + str(accuracy2) + \"%.\")\n",
    "    \n",
    "    \n",
    "    cost2 = 0\n",
    "    profit2 = 0\n",
    "    for i in range(0, len(df)):\n",
    "        if df.loc[i, method] == 1:\n",
    "            cost2 += df.loc[i, \"Open\"]\n",
    "            profit2 += df.loc[i, \"Adj Close\"]\n",
    "        else:\n",
    "            cost2 += df.loc[i, \"Adj Close\"]\n",
    "            profit2 += df.loc[i, \"Open\"]\n",
    "    return2 = (profit2 - cost2) / cost2 * len(df) * 100\n",
    "    print(\"The final return rate of \" + method + \" for \" + ticker + \" is \" + str(return2) + \"%.\")"
   ]
  },
  {
   "cell_type": "markdown",
   "metadata": {},
   "source": [
    "## Linear Regression"
   ]
  },
  {
   "cell_type": "code",
   "execution_count": 45,
   "metadata": {},
   "outputs": [],
   "source": [
    "def linearReg_test(ticker):\n",
    "    df = pd.read_csv(ticker + \"_predicted.csv\")\n",
    "    ##buying strategy###\n",
    "    allbuy(ticker, df)\n",
    "    \n",
    "    ###logReg model###\n",
    "    check(ticker, df, \"LinearReg\")"
   ]
  },
  {
   "cell_type": "code",
   "execution_count": 46,
   "metadata": {},
   "outputs": [
    {
     "name": "stdout",
     "output_type": "stream",
     "text": [
      "The final return rate of all buying TSLA is -16.7669409883524%.\n",
      "The final return rate of LinearReg for TSLA is 4.668577292001195%.\n"
     ]
    }
   ],
   "source": [
    " linearReg_test(\"TSLA\")"
   ]
  },
  {
   "cell_type": "code",
   "execution_count": 47,
   "metadata": {},
   "outputs": [
    {
     "name": "stdout",
     "output_type": "stream",
     "text": [
      "The final return rate of all buying NIO is 17.063188315734784%.\n",
      "The final return rate of LinearReg for NIO is 17.30221551030738%.\n"
     ]
    }
   ],
   "source": [
    " linearReg_test(\"NIO\")"
   ]
  },
  {
   "cell_type": "code",
   "execution_count": 48,
   "metadata": {},
   "outputs": [
    {
     "name": "stdout",
     "output_type": "stream",
     "text": [
      "The final return rate of all buying MSFT is -1.6334190474438595%.\n",
      "The final return rate of LinearReg for MSFT is -2.7123286444085135%.\n"
     ]
    }
   ],
   "source": [
    " linearReg_test(\"MSFT\")"
   ]
  },
  {
   "cell_type": "code",
   "execution_count": 49,
   "metadata": {},
   "outputs": [
    {
     "name": "stdout",
     "output_type": "stream",
     "text": [
      "The final return rate of all buying AAPL is -5.295879145145253%.\n",
      "The final return rate of LinearReg for AAPL is 11.854723044045853%.\n"
     ]
    }
   ],
   "source": [
    " linearReg_test(\"AAPL\")"
   ]
  },
  {
   "cell_type": "markdown",
   "metadata": {},
   "source": [
    "## Logistic Regression"
   ]
  },
  {
   "cell_type": "code",
   "execution_count": 29,
   "metadata": {},
   "outputs": [],
   "source": [
    "def logReg_test(ticker):\n",
    "    df = pd.read_csv(ticker + \"_predicted.csv\")\n",
    "    ##buying strategy###\n",
    "    allbuy(ticker, df)\n",
    "    \n",
    "    ###logReg model###\n",
    "    check(ticker, df, \"LogReg\")"
   ]
  },
  {
   "cell_type": "code",
   "execution_count": 50,
   "metadata": {},
   "outputs": [
    {
     "name": "stdout",
     "output_type": "stream",
     "text": [
      "The final return rate of all buying TSLA is -16.7669409883524%.\n",
      "The final return rate of LogReg for TSLA is -0.405688834607733%.\n"
     ]
    }
   ],
   "source": [
    " logReg_test(\"TSLA\")"
   ]
  },
  {
   "cell_type": "code",
   "execution_count": 51,
   "metadata": {},
   "outputs": [
    {
     "name": "stdout",
     "output_type": "stream",
     "text": [
      "The final return rate of all buying NIO is 17.063188315734784%.\n",
      "The final return rate of LogReg for NIO is -15.283784146556147%.\n"
     ]
    }
   ],
   "source": [
    " logReg_test(\"NIO\")"
   ]
  },
  {
   "cell_type": "code",
   "execution_count": 52,
   "metadata": {},
   "outputs": [
    {
     "name": "stdout",
     "output_type": "stream",
     "text": [
      "The final return rate of all buying MSFT is -1.6334190474438595%.\n",
      "The final return rate of LogReg for MSFT is 1.6346327020766258%.\n"
     ]
    }
   ],
   "source": [
    "logReg_test(\"MSFT\")"
   ]
  },
  {
   "cell_type": "code",
   "execution_count": 53,
   "metadata": {},
   "outputs": [
    {
     "name": "stdout",
     "output_type": "stream",
     "text": [
      "The final return rate of all buying AAPL is -5.295879145145253%.\n",
      "The final return rate of LogReg for AAPL is 7.012215753647605%.\n"
     ]
    }
   ],
   "source": [
    "logReg_test(\"AAPL\")"
   ]
  },
  {
   "cell_type": "code",
   "execution_count": null,
   "metadata": {},
   "outputs": [],
   "source": []
  },
  {
   "cell_type": "code",
   "execution_count": null,
   "metadata": {},
   "outputs": [],
   "source": []
  },
  {
   "cell_type": "code",
   "execution_count": null,
   "metadata": {},
   "outputs": [],
   "source": []
  },
  {
   "cell_type": "code",
   "execution_count": null,
   "metadata": {},
   "outputs": [],
   "source": []
  },
  {
   "cell_type": "code",
   "execution_count": null,
   "metadata": {},
   "outputs": [],
   "source": []
  },
  {
   "cell_type": "code",
   "execution_count": null,
   "metadata": {},
   "outputs": [],
   "source": []
  }
 ],
 "metadata": {
  "kernelspec": {
   "display_name": "Python 3",
   "language": "python",
   "name": "python3"
  },
  "language_info": {
   "codemirror_mode": {
    "name": "ipython",
    "version": 3
   },
   "file_extension": ".py",
   "mimetype": "text/x-python",
   "name": "python",
   "nbconvert_exporter": "python",
   "pygments_lexer": "ipython3",
   "version": "3.8.3"
  }
 },
 "nbformat": 4,
 "nbformat_minor": 4
}
