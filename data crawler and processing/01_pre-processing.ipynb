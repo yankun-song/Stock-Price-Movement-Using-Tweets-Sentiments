{
 "cells": [
  {
   "cell_type": "markdown",
   "metadata": {},
   "source": [
    "# Tweets Data"
   ]
  },
  {
   "cell_type": "code",
   "execution_count": 4,
   "metadata": {},
   "outputs": [],
   "source": [
    "import pandas as pd\n",
    "import numpy as np\n"
   ]
  },
  {
   "cell_type": "code",
   "execution_count": 5,
   "metadata": {},
   "outputs": [
    {
     "name": "stdout",
     "output_type": "stream",
     "text": [
      "<class 'pandas.core.frame.DataFrame'>\n",
      "RangeIndex: 8798 entries, 0 to 8797\n",
      "Data columns (total 6 columns):\n",
      " #   Column       Non-Null Count  Dtype  \n",
      "---  ------       --------------  -----  \n",
      " 0   Unnamed: 0   8626 non-null   float64\n",
      " 1   date         8798 non-null   object \n",
      " 2   followers    8798 non-null   object \n",
      " 3   screen_name  8798 non-null   object \n",
      " 4   tweet        8798 non-null   object \n",
      " 5   tweet_id     8798 non-null   object \n",
      "dtypes: float64(1), object(5)\n",
      "memory usage: 412.5+ KB\n"
     ]
    }
   ],
   "source": [
    "def info(ticker):\n",
    "    \"\"\"show the basic info of a company\n",
    "    \"\"\"\n",
    "    df_ticker = pd.read_csv(ticker+\"_tweets.csv\")\n",
    "    df_ticker.info()\n",
    "\n",
    "info(\"MSFT\")"
   ]
  },
  {
   "cell_type": "code",
   "execution_count": 7,
   "metadata": {},
   "outputs": [
    {
     "data": {
      "text/html": [
       "<div>\n",
       "<style scoped>\n",
       "    .dataframe tbody tr th:only-of-type {\n",
       "        vertical-align: middle;\n",
       "    }\n",
       "\n",
       "    .dataframe tbody tr th {\n",
       "        vertical-align: top;\n",
       "    }\n",
       "\n",
       "    .dataframe thead th {\n",
       "        text-align: right;\n",
       "    }\n",
       "</style>\n",
       "<table border=\"1\" class=\"dataframe\">\n",
       "  <thead>\n",
       "    <tr style=\"text-align: right;\">\n",
       "      <th></th>\n",
       "      <th>date</th>\n",
       "      <th>followers</th>\n",
       "      <th>tweet</th>\n",
       "    </tr>\n",
       "  </thead>\n",
       "  <tbody>\n",
       "    <tr>\n",
       "      <th>0</th>\n",
       "      <td>2020-10-08 23:43:25</td>\n",
       "      <td>3308.0</td>\n",
       "      <td>#Free  Trial available at https://t.co/x2kmaKA...</td>\n",
       "    </tr>\n",
       "    <tr>\n",
       "      <th>1</th>\n",
       "      <td>2020-10-08 23:42:13</td>\n",
       "      <td>3308.0</td>\n",
       "      <td>4 hour charts for all 78 instruments are avail...</td>\n",
       "    </tr>\n",
       "    <tr>\n",
       "      <th>2</th>\n",
       "      <td>2020-10-09 01:57:58</td>\n",
       "      <td>910.0</td>\n",
       "      <td>Azure Communication Services enables developer...</td>\n",
       "    </tr>\n",
       "    <tr>\n",
       "      <th>3</th>\n",
       "      <td>2020-10-09 12:21:46</td>\n",
       "      <td>1471.0</td>\n",
       "      <td>Microsoft is letting employees work from home ...</td>\n",
       "    </tr>\n",
       "    <tr>\n",
       "      <th>4</th>\n",
       "      <td>2020-10-09 19:06:02</td>\n",
       "      <td>3308.0</td>\n",
       "      <td>1 hour charts for all 78 instruments are avail...</td>\n",
       "    </tr>\n",
       "    <tr>\n",
       "      <th>...</th>\n",
       "      <td>...</td>\n",
       "      <td>...</td>\n",
       "      <td>...</td>\n",
       "    </tr>\n",
       "    <tr>\n",
       "      <th>8621</th>\n",
       "      <td>2020-04-02 07:03:04</td>\n",
       "      <td>1398.0</td>\n",
       "      <td>📣💡 TODAY I become a Microsoft Most Valuable Pr...</td>\n",
       "    </tr>\n",
       "    <tr>\n",
       "      <th>8622</th>\n",
       "      <td>2020-04-01 11:20:06</td>\n",
       "      <td>1413.0</td>\n",
       "      <td>If you're in need of a #CRM system but are uns...</td>\n",
       "    </tr>\n",
       "    <tr>\n",
       "      <th>8623</th>\n",
       "      <td>2020-04-01 19:08:49</td>\n",
       "      <td>5.0</td>\n",
       "      <td>New ticket has been created on options trading...</td>\n",
       "    </tr>\n",
       "    <tr>\n",
       "      <th>8624</th>\n",
       "      <td>2020-04-01 15:58:51</td>\n",
       "      <td>5.0</td>\n",
       "      <td>New ticket has been created on options trading...</td>\n",
       "    </tr>\n",
       "    <tr>\n",
       "      <th>8625</th>\n",
       "      <td>2020-04-01 01:27:33</td>\n",
       "      <td>541.0</td>\n",
       "      <td>Only 1 Dow stock rose in the first quarter. It...</td>\n",
       "    </tr>\n",
       "  </tbody>\n",
       "</table>\n",
       "<p>8626 rows × 3 columns</p>\n",
       "</div>"
      ],
      "text/plain": [
       "                     date followers  \\\n",
       "0     2020-10-08 23:43:25    3308.0   \n",
       "1     2020-10-08 23:42:13    3308.0   \n",
       "2     2020-10-09 01:57:58     910.0   \n",
       "3     2020-10-09 12:21:46    1471.0   \n",
       "4     2020-10-09 19:06:02    3308.0   \n",
       "...                   ...       ...   \n",
       "8621  2020-04-02 07:03:04    1398.0   \n",
       "8622  2020-04-01 11:20:06    1413.0   \n",
       "8623  2020-04-01 19:08:49       5.0   \n",
       "8624  2020-04-01 15:58:51       5.0   \n",
       "8625  2020-04-01 01:27:33     541.0   \n",
       "\n",
       "                                                  tweet  \n",
       "0     #Free  Trial available at https://t.co/x2kmaKA...  \n",
       "1     4 hour charts for all 78 instruments are avail...  \n",
       "2     Azure Communication Services enables developer...  \n",
       "3     Microsoft is letting employees work from home ...  \n",
       "4     1 hour charts for all 78 instruments are avail...  \n",
       "...                                                 ...  \n",
       "8621  📣💡 TODAY I become a Microsoft Most Valuable Pr...  \n",
       "8622  If you're in need of a #CRM system but are uns...  \n",
       "8623  New ticket has been created on options trading...  \n",
       "8624  New ticket has been created on options trading...  \n",
       "8625  Only 1 Dow stock rose in the first quarter. It...  \n",
       "\n",
       "[8626 rows x 3 columns]"
      ]
     },
     "execution_count": 7,
     "metadata": {},
     "output_type": "execute_result"
    }
   ],
   "source": [
    "df = pd.read_csv(\"MSFT_tweets.csv\")\n",
    "df = df.dropna()    #remove the rows with na values\n",
    "df = df.reset_index()   # reset the index\n",
    "df = df.loc[:, ['date', 'followers', 'tweet']]    # only take the key info we'll use\n",
    "df"
   ]
  },
  {
   "cell_type": "code",
   "execution_count": 8,
   "metadata": {},
   "outputs": [
    {
     "name": "stdout",
     "output_type": "stream",
     "text": [
      "<class 'pandas.core.frame.DataFrame'>\n",
      "RangeIndex: 8626 entries, 0 to 8625\n",
      "Data columns (total 3 columns):\n",
      " #   Column     Non-Null Count  Dtype         \n",
      "---  ------     --------------  -----         \n",
      " 0   date       8626 non-null   datetime64[ns]\n",
      " 1   followers  8626 non-null   float64       \n",
      " 2   tweet      8626 non-null   object        \n",
      "dtypes: datetime64[ns](1), float64(1), object(1)\n",
      "memory usage: 202.3+ KB\n"
     ]
    }
   ],
   "source": [
    "df['date']=pd.to_datetime(df['date'], format='%Y-%m-%d %H:%M:%S')    # transfer the type of date\n",
    "df['followers'] = df['followers'].astype(float)\n",
    "df.info()"
   ]
  },
  {
   "cell_type": "code",
   "execution_count": 9,
   "metadata": {},
   "outputs": [
    {
     "data": {
      "text/html": [
       "<div>\n",
       "<style scoped>\n",
       "    .dataframe tbody tr th:only-of-type {\n",
       "        vertical-align: middle;\n",
       "    }\n",
       "\n",
       "    .dataframe tbody tr th {\n",
       "        vertical-align: top;\n",
       "    }\n",
       "\n",
       "    .dataframe thead th {\n",
       "        text-align: right;\n",
       "    }\n",
       "</style>\n",
       "<table border=\"1\" class=\"dataframe\">\n",
       "  <thead>\n",
       "    <tr style=\"text-align: right;\">\n",
       "      <th></th>\n",
       "      <th>date</th>\n",
       "      <th>followers</th>\n",
       "      <th>tweet</th>\n",
       "    </tr>\n",
       "  </thead>\n",
       "  <tbody>\n",
       "    <tr>\n",
       "      <th>0</th>\n",
       "      <td>2020-10-08</td>\n",
       "      <td>3308.0</td>\n",
       "      <td>#Free  Trial available at https://t.co/x2kmaKA...</td>\n",
       "    </tr>\n",
       "    <tr>\n",
       "      <th>1</th>\n",
       "      <td>2020-10-08</td>\n",
       "      <td>3308.0</td>\n",
       "      <td>4 hour charts for all 78 instruments are avail...</td>\n",
       "    </tr>\n",
       "    <tr>\n",
       "      <th>2</th>\n",
       "      <td>2020-10-09</td>\n",
       "      <td>910.0</td>\n",
       "      <td>Azure Communication Services enables developer...</td>\n",
       "    </tr>\n",
       "    <tr>\n",
       "      <th>3</th>\n",
       "      <td>2020-10-09</td>\n",
       "      <td>1471.0</td>\n",
       "      <td>Microsoft is letting employees work from home ...</td>\n",
       "    </tr>\n",
       "    <tr>\n",
       "      <th>4</th>\n",
       "      <td>2020-10-09</td>\n",
       "      <td>3308.0</td>\n",
       "      <td>1 hour charts for all 78 instruments are avail...</td>\n",
       "    </tr>\n",
       "    <tr>\n",
       "      <th>...</th>\n",
       "      <td>...</td>\n",
       "      <td>...</td>\n",
       "      <td>...</td>\n",
       "    </tr>\n",
       "    <tr>\n",
       "      <th>8621</th>\n",
       "      <td>2020-04-02</td>\n",
       "      <td>1398.0</td>\n",
       "      <td>📣💡 TODAY I become a Microsoft Most Valuable Pr...</td>\n",
       "    </tr>\n",
       "    <tr>\n",
       "      <th>8622</th>\n",
       "      <td>2020-04-01</td>\n",
       "      <td>1413.0</td>\n",
       "      <td>If you're in need of a #CRM system but are uns...</td>\n",
       "    </tr>\n",
       "    <tr>\n",
       "      <th>8623</th>\n",
       "      <td>2020-04-01</td>\n",
       "      <td>5.0</td>\n",
       "      <td>New ticket has been created on options trading...</td>\n",
       "    </tr>\n",
       "    <tr>\n",
       "      <th>8624</th>\n",
       "      <td>2020-04-01</td>\n",
       "      <td>5.0</td>\n",
       "      <td>New ticket has been created on options trading...</td>\n",
       "    </tr>\n",
       "    <tr>\n",
       "      <th>8625</th>\n",
       "      <td>2020-04-01</td>\n",
       "      <td>541.0</td>\n",
       "      <td>Only 1 Dow stock rose in the first quarter. It...</td>\n",
       "    </tr>\n",
       "  </tbody>\n",
       "</table>\n",
       "<p>8626 rows × 3 columns</p>\n",
       "</div>"
      ],
      "text/plain": [
       "           date  followers                                              tweet\n",
       "0    2020-10-08     3308.0  #Free  Trial available at https://t.co/x2kmaKA...\n",
       "1    2020-10-08     3308.0  4 hour charts for all 78 instruments are avail...\n",
       "2    2020-10-09      910.0  Azure Communication Services enables developer...\n",
       "3    2020-10-09     1471.0  Microsoft is letting employees work from home ...\n",
       "4    2020-10-09     3308.0  1 hour charts for all 78 instruments are avail...\n",
       "...         ...        ...                                                ...\n",
       "8621 2020-04-02     1398.0  📣💡 TODAY I become a Microsoft Most Valuable Pr...\n",
       "8622 2020-04-01     1413.0  If you're in need of a #CRM system but are uns...\n",
       "8623 2020-04-01        5.0  New ticket has been created on options trading...\n",
       "8624 2020-04-01        5.0  New ticket has been created on options trading...\n",
       "8625 2020-04-01      541.0  Only 1 Dow stock rose in the first quarter. It...\n",
       "\n",
       "[8626 rows x 3 columns]"
      ]
     },
     "execution_count": 9,
     "metadata": {},
     "output_type": "execute_result"
    }
   ],
   "source": [
    "df['date'] = df['date'].dt.normalize()    # we only need the date\n",
    "df"
   ]
  },
  {
   "cell_type": "code",
   "execution_count": 10,
   "metadata": {},
   "outputs": [],
   "source": [
    "###########################################\n",
    "#########Analyze the sentiments################\n",
    "###########################################"
   ]
  },
  {
   "cell_type": "code",
   "execution_count": 11,
   "metadata": {},
   "outputs": [],
   "source": [
    "from vaderSentiment.vaderSentiment import SentimentIntensityAnalyzer"
   ]
  },
  {
   "cell_type": "code",
   "execution_count": 12,
   "metadata": {},
   "outputs": [],
   "source": [
    "def sentiment_scores(sentence):\n",
    "    \"\"\"return a sentiment score of the input sentence\n",
    "    \"\"\"\n",
    "    sid_obj = SentimentIntensityAnalyzer()\n",
    "    sentiment_dict = sid_obj.polarity_scores(sentence)\n",
    "    return sentiment_dict['compound']"
   ]
  },
  {
   "cell_type": "code",
   "execution_count": 13,
   "metadata": {},
   "outputs": [],
   "source": [
    "#df1 = df.head(10).copy()\n",
    "df['senti_score'] = 0 \n",
    "\n",
    "for i in range(0, len(df)):\n",
    "    df.loc[i, 'senti_score'] = sentiment_scores(df.loc[i, 'tweet'])              "
   ]
  },
  {
   "cell_type": "code",
   "execution_count": 14,
   "metadata": {},
   "outputs": [
    {
     "data": {
      "text/html": [
       "<div>\n",
       "<style scoped>\n",
       "    .dataframe tbody tr th:only-of-type {\n",
       "        vertical-align: middle;\n",
       "    }\n",
       "\n",
       "    .dataframe tbody tr th {\n",
       "        vertical-align: top;\n",
       "    }\n",
       "\n",
       "    .dataframe thead th {\n",
       "        text-align: right;\n",
       "    }\n",
       "</style>\n",
       "<table border=\"1\" class=\"dataframe\">\n",
       "  <thead>\n",
       "    <tr style=\"text-align: right;\">\n",
       "      <th></th>\n",
       "      <th>date</th>\n",
       "      <th>followers</th>\n",
       "      <th>tweet</th>\n",
       "      <th>senti_score</th>\n",
       "    </tr>\n",
       "  </thead>\n",
       "  <tbody>\n",
       "    <tr>\n",
       "      <th>0</th>\n",
       "      <td>2020-10-08</td>\n",
       "      <td>3308.0</td>\n",
       "      <td>#Free  Trial available at https://t.co/x2kmaKA...</td>\n",
       "      <td>0.5106</td>\n",
       "    </tr>\n",
       "    <tr>\n",
       "      <th>1</th>\n",
       "      <td>2020-10-08</td>\n",
       "      <td>3308.0</td>\n",
       "      <td>4 hour charts for all 78 instruments are avail...</td>\n",
       "      <td>0.0000</td>\n",
       "    </tr>\n",
       "    <tr>\n",
       "      <th>2</th>\n",
       "      <td>2020-10-09</td>\n",
       "      <td>910.0</td>\n",
       "      <td>Azure Communication Services enables developer...</td>\n",
       "      <td>0.4019</td>\n",
       "    </tr>\n",
       "    <tr>\n",
       "      <th>3</th>\n",
       "      <td>2020-10-09</td>\n",
       "      <td>1471.0</td>\n",
       "      <td>Microsoft is letting employees work from home ...</td>\n",
       "      <td>0.0000</td>\n",
       "    </tr>\n",
       "    <tr>\n",
       "      <th>4</th>\n",
       "      <td>2020-10-09</td>\n",
       "      <td>3308.0</td>\n",
       "      <td>1 hour charts for all 78 instruments are avail...</td>\n",
       "      <td>0.0000</td>\n",
       "    </tr>\n",
       "    <tr>\n",
       "      <th>...</th>\n",
       "      <td>...</td>\n",
       "      <td>...</td>\n",
       "      <td>...</td>\n",
       "      <td>...</td>\n",
       "    </tr>\n",
       "    <tr>\n",
       "      <th>8621</th>\n",
       "      <td>2020-04-02</td>\n",
       "      <td>1398.0</td>\n",
       "      <td>📣💡 TODAY I become a Microsoft Most Valuable Pr...</td>\n",
       "      <td>0.8620</td>\n",
       "    </tr>\n",
       "    <tr>\n",
       "      <th>8622</th>\n",
       "      <td>2020-04-01</td>\n",
       "      <td>1413.0</td>\n",
       "      <td>If you're in need of a #CRM system but are uns...</td>\n",
       "      <td>0.8271</td>\n",
       "    </tr>\n",
       "    <tr>\n",
       "      <th>8623</th>\n",
       "      <td>2020-04-01</td>\n",
       "      <td>5.0</td>\n",
       "      <td>New ticket has been created on options trading...</td>\n",
       "      <td>0.4359</td>\n",
       "    </tr>\n",
       "    <tr>\n",
       "      <th>8624</th>\n",
       "      <td>2020-04-01</td>\n",
       "      <td>5.0</td>\n",
       "      <td>New ticket has been created on options trading...</td>\n",
       "      <td>0.4359</td>\n",
       "    </tr>\n",
       "    <tr>\n",
       "      <th>8625</th>\n",
       "      <td>2020-04-01</td>\n",
       "      <td>541.0</td>\n",
       "      <td>Only 1 Dow stock rose in the first quarter. It...</td>\n",
       "      <td>0.0000</td>\n",
       "    </tr>\n",
       "  </tbody>\n",
       "</table>\n",
       "<p>8626 rows × 4 columns</p>\n",
       "</div>"
      ],
      "text/plain": [
       "           date  followers                                              tweet  \\\n",
       "0    2020-10-08     3308.0  #Free  Trial available at https://t.co/x2kmaKA...   \n",
       "1    2020-10-08     3308.0  4 hour charts for all 78 instruments are avail...   \n",
       "2    2020-10-09      910.0  Azure Communication Services enables developer...   \n",
       "3    2020-10-09     1471.0  Microsoft is letting employees work from home ...   \n",
       "4    2020-10-09     3308.0  1 hour charts for all 78 instruments are avail...   \n",
       "...         ...        ...                                                ...   \n",
       "8621 2020-04-02     1398.0  📣💡 TODAY I become a Microsoft Most Valuable Pr...   \n",
       "8622 2020-04-01     1413.0  If you're in need of a #CRM system but are uns...   \n",
       "8623 2020-04-01        5.0  New ticket has been created on options trading...   \n",
       "8624 2020-04-01        5.0  New ticket has been created on options trading...   \n",
       "8625 2020-04-01      541.0  Only 1 Dow stock rose in the first quarter. It...   \n",
       "\n",
       "      senti_score  \n",
       "0          0.5106  \n",
       "1          0.0000  \n",
       "2          0.4019  \n",
       "3          0.0000  \n",
       "4          0.0000  \n",
       "...           ...  \n",
       "8621       0.8620  \n",
       "8622       0.8271  \n",
       "8623       0.4359  \n",
       "8624       0.4359  \n",
       "8625       0.0000  \n",
       "\n",
       "[8626 rows x 4 columns]"
      ]
     },
     "execution_count": 14,
     "metadata": {},
     "output_type": "execute_result"
    }
   ],
   "source": [
    "df1 = df.copy()\n",
    "df1"
   ]
  },
  {
   "cell_type": "code",
   "execution_count": 15,
   "metadata": {},
   "outputs": [],
   "source": [
    "def weighted_avg(group, avg_name, weight_name):\n",
    "    \"\"\" calculate weighted avg\n",
    "    \"\"\"\n",
    "    d = group[avg_name]\n",
    "    w = group[weight_name]\n",
    "    try:\n",
    "        return (d * w).sum() / w.sum()\n",
    "    except ZeroDivisionError:\n",
    "        return d.mean()"
   ]
  },
  {
   "cell_type": "code",
   "execution_count": 86,
   "metadata": {},
   "outputs": [],
   "source": [
    "senti_series = df1.groupby(\"date\").apply(weighted_avg, \"senti_score\", \"followers\")"
   ]
  },
  {
   "cell_type": "code",
   "execution_count": 87,
   "metadata": {},
   "outputs": [
    {
     "data": {
      "text/plain": [
       "pandas.core.series.Series"
      ]
     },
     "execution_count": 87,
     "metadata": {},
     "output_type": "execute_result"
    }
   ],
   "source": [
    "type(senti_series)"
   ]
  },
  {
   "cell_type": "code",
   "execution_count": 88,
   "metadata": {},
   "outputs": [],
   "source": [
    "senti_series.to_csv(\"MSFT_series.csv\")"
   ]
  },
  {
   "cell_type": "code",
   "execution_count": 89,
   "metadata": {},
   "outputs": [
    {
     "data": {
      "text/plain": [
       "date\n",
       "2020-04-01    0.270791\n",
       "2020-04-02    0.237726\n",
       "2020-04-03    0.115113\n",
       "2020-04-04    0.217096\n",
       "2020-04-05    0.438362\n",
       "                ...   \n",
       "2020-10-06    0.805220\n",
       "2020-10-07    0.181335\n",
       "2020-10-08    0.639552\n",
       "2020-10-09    0.237814\n",
       "2020-10-12    0.680800\n",
       "Length: 193, dtype: float64"
      ]
     },
     "execution_count": 89,
     "metadata": {},
     "output_type": "execute_result"
    }
   ],
   "source": [
    "senti_series"
   ]
  },
  {
   "cell_type": "code",
   "execution_count": 90,
   "metadata": {},
   "outputs": [],
   "source": [
    "senti = pd.DataFrame({'tweets_date':senti_series.index, 'score':senti_series.values})"
   ]
  },
  {
   "cell_type": "code",
   "execution_count": 91,
   "metadata": {},
   "outputs": [],
   "source": [
    "senti['day'] = senti['tweets_date'].dt.dayofweek"
   ]
  },
  {
   "cell_type": "code",
   "execution_count": 92,
   "metadata": {},
   "outputs": [],
   "source": [
    "senti = senti.set_index(\"tweets_date\")"
   ]
  },
  {
   "cell_type": "code",
   "execution_count": null,
   "metadata": {},
   "outputs": [],
   "source": [
    "\n"
   ]
  },
  {
   "cell_type": "code",
   "execution_count": 93,
   "metadata": {},
   "outputs": [
    {
     "name": "stdout",
     "output_type": "stream",
     "text": [
      "<class 'pandas.core.frame.DataFrame'>\n",
      "DatetimeIndex: 193 entries, 2020-04-01 to 2020-10-12\n",
      "Data columns (total 2 columns):\n",
      " #   Column  Non-Null Count  Dtype  \n",
      "---  ------  --------------  -----  \n",
      " 0   score   193 non-null    float64\n",
      " 1   day     193 non-null    int64  \n",
      "dtypes: float64(1), int64(1)\n",
      "memory usage: 4.5 KB\n"
     ]
    }
   ],
   "source": [
    "senti.info()"
   ]
  },
  {
   "cell_type": "code",
   "execution_count": 102,
   "metadata": {},
   "outputs": [
    {
     "data": {
      "text/html": [
       "<div>\n",
       "<style scoped>\n",
       "    .dataframe tbody tr th:only-of-type {\n",
       "        vertical-align: middle;\n",
       "    }\n",
       "\n",
       "    .dataframe tbody tr th {\n",
       "        vertical-align: top;\n",
       "    }\n",
       "\n",
       "    .dataframe thead th {\n",
       "        text-align: right;\n",
       "    }\n",
       "</style>\n",
       "<table border=\"1\" class=\"dataframe\">\n",
       "  <thead>\n",
       "    <tr style=\"text-align: right;\">\n",
       "      <th></th>\n",
       "      <th>score</th>\n",
       "      <th>day</th>\n",
       "    </tr>\n",
       "    <tr>\n",
       "      <th>tweets_date</th>\n",
       "      <th></th>\n",
       "      <th></th>\n",
       "    </tr>\n",
       "  </thead>\n",
       "  <tbody>\n",
       "    <tr>\n",
       "      <th>2020-04-01</th>\n",
       "      <td>0.270791</td>\n",
       "      <td>2</td>\n",
       "    </tr>\n",
       "    <tr>\n",
       "      <th>2020-04-02</th>\n",
       "      <td>0.237726</td>\n",
       "      <td>3</td>\n",
       "    </tr>\n",
       "    <tr>\n",
       "      <th>2020-04-03</th>\n",
       "      <td>0.115113</td>\n",
       "      <td>4</td>\n",
       "    </tr>\n",
       "    <tr>\n",
       "      <th>2020-04-04</th>\n",
       "      <td>0.217096</td>\n",
       "      <td>5</td>\n",
       "    </tr>\n",
       "    <tr>\n",
       "      <th>2020-04-05</th>\n",
       "      <td>0.438362</td>\n",
       "      <td>6</td>\n",
       "    </tr>\n",
       "    <tr>\n",
       "      <th>...</th>\n",
       "      <td>...</td>\n",
       "      <td>...</td>\n",
       "    </tr>\n",
       "    <tr>\n",
       "      <th>2020-10-06</th>\n",
       "      <td>0.805220</td>\n",
       "      <td>1</td>\n",
       "    </tr>\n",
       "    <tr>\n",
       "      <th>2020-10-07</th>\n",
       "      <td>0.181335</td>\n",
       "      <td>2</td>\n",
       "    </tr>\n",
       "    <tr>\n",
       "      <th>2020-10-08</th>\n",
       "      <td>0.639552</td>\n",
       "      <td>3</td>\n",
       "    </tr>\n",
       "    <tr>\n",
       "      <th>2020-10-09</th>\n",
       "      <td>0.237814</td>\n",
       "      <td>4</td>\n",
       "    </tr>\n",
       "    <tr>\n",
       "      <th>2020-10-12</th>\n",
       "      <td>0.680800</td>\n",
       "      <td>0</td>\n",
       "    </tr>\n",
       "  </tbody>\n",
       "</table>\n",
       "<p>193 rows × 2 columns</p>\n",
       "</div>"
      ],
      "text/plain": [
       "                score  day\n",
       "tweets_date               \n",
       "2020-04-01   0.270791    2\n",
       "2020-04-02   0.237726    3\n",
       "2020-04-03   0.115113    4\n",
       "2020-04-04   0.217096    5\n",
       "2020-04-05   0.438362    6\n",
       "...               ...  ...\n",
       "2020-10-06   0.805220    1\n",
       "2020-10-07   0.181335    2\n",
       "2020-10-08   0.639552    3\n",
       "2020-10-09   0.237814    4\n",
       "2020-10-12   0.680800    0\n",
       "\n",
       "[193 rows x 2 columns]"
      ]
     },
     "execution_count": 102,
     "metadata": {},
     "output_type": "execute_result"
    }
   ],
   "source": [
    "senti"
   ]
  },
  {
   "cell_type": "markdown",
   "metadata": {},
   "source": [
    "# Stock Market Data"
   ]
  },
  {
   "cell_type": "code",
   "execution_count": 95,
   "metadata": {},
   "outputs": [
    {
     "data": {
      "text/html": [
       "<div>\n",
       "<style scoped>\n",
       "    .dataframe tbody tr th:only-of-type {\n",
       "        vertical-align: middle;\n",
       "    }\n",
       "\n",
       "    .dataframe tbody tr th {\n",
       "        vertical-align: top;\n",
       "    }\n",
       "\n",
       "    .dataframe thead th {\n",
       "        text-align: right;\n",
       "    }\n",
       "</style>\n",
       "<table border=\"1\" class=\"dataframe\">\n",
       "  <thead>\n",
       "    <tr style=\"text-align: right;\">\n",
       "      <th></th>\n",
       "      <th>Date</th>\n",
       "      <th>Movement</th>\n",
       "    </tr>\n",
       "  </thead>\n",
       "  <tbody>\n",
       "    <tr>\n",
       "      <th>0</th>\n",
       "      <td>2020-04-01</td>\n",
       "      <td>NaN</td>\n",
       "    </tr>\n",
       "    <tr>\n",
       "      <th>1</th>\n",
       "      <td>2020-04-02</td>\n",
       "      <td>2.070864</td>\n",
       "    </tr>\n",
       "    <tr>\n",
       "      <th>2</th>\n",
       "      <td>2020-04-03</td>\n",
       "      <td>-0.921028</td>\n",
       "    </tr>\n",
       "    <tr>\n",
       "      <th>3</th>\n",
       "      <td>2020-04-06</td>\n",
       "      <td>7.436775</td>\n",
       "    </tr>\n",
       "    <tr>\n",
       "      <th>4</th>\n",
       "      <td>2020-04-07</td>\n",
       "      <td>-1.077021</td>\n",
       "    </tr>\n",
       "    <tr>\n",
       "      <th>...</th>\n",
       "      <td>...</td>\n",
       "      <td>...</td>\n",
       "    </tr>\n",
       "    <tr>\n",
       "      <th>121</th>\n",
       "      <td>2020-09-23</td>\n",
       "      <td>-3.292837</td>\n",
       "    </tr>\n",
       "    <tr>\n",
       "      <th>122</th>\n",
       "      <td>2020-09-24</td>\n",
       "      <td>1.296179</td>\n",
       "    </tr>\n",
       "    <tr>\n",
       "      <th>123</th>\n",
       "      <td>2020-09-25</td>\n",
       "      <td>2.278658</td>\n",
       "    </tr>\n",
       "    <tr>\n",
       "      <th>124</th>\n",
       "      <td>2020-09-28</td>\n",
       "      <td>0.779518</td>\n",
       "    </tr>\n",
       "    <tr>\n",
       "      <th>125</th>\n",
       "      <td>2020-09-29</td>\n",
       "      <td>-1.040874</td>\n",
       "    </tr>\n",
       "  </tbody>\n",
       "</table>\n",
       "<p>126 rows × 2 columns</p>\n",
       "</div>"
      ],
      "text/plain": [
       "           Date  Movement\n",
       "0    2020-04-01       NaN\n",
       "1    2020-04-02  2.070864\n",
       "2    2020-04-03 -0.921028\n",
       "3    2020-04-06  7.436775\n",
       "4    2020-04-07 -1.077021\n",
       "..          ...       ...\n",
       "121  2020-09-23 -3.292837\n",
       "122  2020-09-24  1.296179\n",
       "123  2020-09-25  2.278658\n",
       "124  2020-09-28  0.779518\n",
       "125  2020-09-29 -1.040874\n",
       "\n",
       "[126 rows x 2 columns]"
      ]
     },
     "execution_count": 95,
     "metadata": {},
     "output_type": "execute_result"
    }
   ],
   "source": [
    "stock = pd.read_csv(\"MSFT_stock.csv\")\n",
    "stock[\"Movement\"] = stock[\"Adj Close\"].pct_change() *100\n",
    "stock = stock.loc[:, ['Date', 'Movement']]\n",
    "stock"
   ]
  },
  {
   "cell_type": "code",
   "execution_count": 96,
   "metadata": {},
   "outputs": [],
   "source": [
    "stock['Date']=pd.to_datetime(stock['Date'], format='%Y-%m-%d') "
   ]
  },
  {
   "cell_type": "code",
   "execution_count": 97,
   "metadata": {},
   "outputs": [],
   "source": [
    "import datetime\n",
    "stock.Date = stock.Date + datetime.timedelta(days = -1)"
   ]
  },
  {
   "cell_type": "code",
   "execution_count": 98,
   "metadata": {},
   "outputs": [],
   "source": [
    "stock = stock.set_index(\"Date\")"
   ]
  },
  {
   "cell_type": "markdown",
   "metadata": {},
   "source": [
    "# 合并"
   ]
  },
  {
   "cell_type": "code",
   "execution_count": 99,
   "metadata": {},
   "outputs": [],
   "source": [
    "result = senti.join(stock, how=\"inner\")"
   ]
  },
  {
   "cell_type": "code",
   "execution_count": 100,
   "metadata": {},
   "outputs": [
    {
     "data": {
      "text/html": [
       "<div>\n",
       "<style scoped>\n",
       "    .dataframe tbody tr th:only-of-type {\n",
       "        vertical-align: middle;\n",
       "    }\n",
       "\n",
       "    .dataframe tbody tr th {\n",
       "        vertical-align: top;\n",
       "    }\n",
       "\n",
       "    .dataframe thead th {\n",
       "        text-align: right;\n",
       "    }\n",
       "</style>\n",
       "<table border=\"1\" class=\"dataframe\">\n",
       "  <thead>\n",
       "    <tr style=\"text-align: right;\">\n",
       "      <th></th>\n",
       "      <th>score</th>\n",
       "      <th>day</th>\n",
       "      <th>Movement</th>\n",
       "    </tr>\n",
       "  </thead>\n",
       "  <tbody>\n",
       "    <tr>\n",
       "      <th>2020-04-01</th>\n",
       "      <td>0.270791</td>\n",
       "      <td>2</td>\n",
       "      <td>2.070864</td>\n",
       "    </tr>\n",
       "    <tr>\n",
       "      <th>2020-04-02</th>\n",
       "      <td>0.237726</td>\n",
       "      <td>3</td>\n",
       "      <td>-0.921028</td>\n",
       "    </tr>\n",
       "    <tr>\n",
       "      <th>2020-04-05</th>\n",
       "      <td>0.438362</td>\n",
       "      <td>6</td>\n",
       "      <td>7.436775</td>\n",
       "    </tr>\n",
       "    <tr>\n",
       "      <th>2020-04-06</th>\n",
       "      <td>0.096384</td>\n",
       "      <td>0</td>\n",
       "      <td>-1.077021</td>\n",
       "    </tr>\n",
       "    <tr>\n",
       "      <th>2020-04-07</th>\n",
       "      <td>0.141523</td>\n",
       "      <td>1</td>\n",
       "      <td>1.003119</td>\n",
       "    </tr>\n",
       "    <tr>\n",
       "      <th>...</th>\n",
       "      <td>...</td>\n",
       "      <td>...</td>\n",
       "      <td>...</td>\n",
       "    </tr>\n",
       "    <tr>\n",
       "      <th>2020-09-22</th>\n",
       "      <td>0.481326</td>\n",
       "      <td>1</td>\n",
       "      <td>-3.292837</td>\n",
       "    </tr>\n",
       "    <tr>\n",
       "      <th>2020-09-23</th>\n",
       "      <td>0.275897</td>\n",
       "      <td>2</td>\n",
       "      <td>1.296179</td>\n",
       "    </tr>\n",
       "    <tr>\n",
       "      <th>2020-09-24</th>\n",
       "      <td>0.044069</td>\n",
       "      <td>3</td>\n",
       "      <td>2.278658</td>\n",
       "    </tr>\n",
       "    <tr>\n",
       "      <th>2020-09-27</th>\n",
       "      <td>0.145333</td>\n",
       "      <td>6</td>\n",
       "      <td>0.779518</td>\n",
       "    </tr>\n",
       "    <tr>\n",
       "      <th>2020-09-28</th>\n",
       "      <td>0.072860</td>\n",
       "      <td>0</td>\n",
       "      <td>-1.040874</td>\n",
       "    </tr>\n",
       "  </tbody>\n",
       "</table>\n",
       "<p>125 rows × 3 columns</p>\n",
       "</div>"
      ],
      "text/plain": [
       "               score  day  Movement\n",
       "2020-04-01  0.270791    2  2.070864\n",
       "2020-04-02  0.237726    3 -0.921028\n",
       "2020-04-05  0.438362    6  7.436775\n",
       "2020-04-06  0.096384    0 -1.077021\n",
       "2020-04-07  0.141523    1  1.003119\n",
       "...              ...  ...       ...\n",
       "2020-09-22  0.481326    1 -3.292837\n",
       "2020-09-23  0.275897    2  1.296179\n",
       "2020-09-24  0.044069    3  2.278658\n",
       "2020-09-27  0.145333    6  0.779518\n",
       "2020-09-28  0.072860    0 -1.040874\n",
       "\n",
       "[125 rows x 3 columns]"
      ]
     },
     "execution_count": 100,
     "metadata": {},
     "output_type": "execute_result"
    }
   ],
   "source": [
    "result"
   ]
  },
  {
   "cell_type": "code",
   "execution_count": 101,
   "metadata": {},
   "outputs": [],
   "source": [
    "result.to_csv(\"MSFT_final.csv\")"
   ]
  },
  {
   "cell_type": "code",
   "execution_count": null,
   "metadata": {},
   "outputs": [],
   "source": []
  },
  {
   "cell_type": "code",
   "execution_count": null,
   "metadata": {},
   "outputs": [],
   "source": []
  }
 ],
 "metadata": {
  "kernelspec": {
   "display_name": "Python 3",
   "language": "python",
   "name": "python3"
  },
  "language_info": {
   "codemirror_mode": {
    "name": "ipython",
    "version": 3
   },
   "file_extension": ".py",
   "mimetype": "text/x-python",
   "name": "python",
   "nbconvert_exporter": "python",
   "pygments_lexer": "ipython3",
   "version": "3.8.3"
  }
 },
 "nbformat": 4,
 "nbformat_minor": 4
}
