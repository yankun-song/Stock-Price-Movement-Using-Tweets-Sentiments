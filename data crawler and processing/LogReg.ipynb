{
 "cells": [
  {
   "cell_type": "code",
   "execution_count": 3,
   "metadata": {},
   "outputs": [],
   "source": [
    "import pandas as pd\n",
    "import numpy as np\n",
    "from sklearn.model_selection import train_test_split\n",
    "from sklearn.linear_model import LogisticRegression, LogisticRegressionCV\n",
    "from sklearn import metrics\n",
    "import tweepy"
   ]
  },
  {
   "cell_type": "code",
   "execution_count": 18,
   "metadata": {},
   "outputs": [],
   "source": [
    "def logisticRegression(ticker, weighted=True):\n",
    "    if weighted == True:        \n",
    "        df = pd.read_csv(ticker+'_weighted_joined.csv', index_col=0)\n",
    "    else:\n",
    "        df = pd.read_csv(ticker+'_avg_joined.csv', index_col=0)\n",
    "    df['Direction'] = df.Movement.apply(lambda x: \"up\" if x>0 else \"down\")\n",
    "    cvar = [\"day\", \"Direction\"]\n",
    "    df[cvar] = df[cvar].astype('category')\n",
    "    df = pd.get_dummies(df, prefix_sep='_')\n",
    "    \n",
    "    df2 = df.copy()\n",
    "    rdummies = [\"day_0\", \"Direction_down\"]\n",
    "    df2 = df2.drop(columns=rdummies)\n",
    "\n",
    "    df3 = df2.copy()\n",
    "    df3 = df3.drop(columns=\"Movement\")\n",
    "    \n",
    "    testpart_size = 0.2\n",
    "    df_nontestData, df_testData = train_test_split(df3, test_size=testpart_size, random_state=1)\n",
    "    \n",
    "    DV = 'Direction_up'\n",
    "    y = df_nontestData[DV]\n",
    "    X = df_nontestData.drop(columns=[DV])\n",
    "    \n",
    "    kfolds = 5\n",
    "    min_alpha = 0.001\n",
    "    max_alpha = 100\n",
    "    n_candidates = 1000\n",
    "    \n",
    "    # C_list is the element-wise inverse of alpha_list. It is required as one of the paramater values for LogisticRegressionCV\n",
    "    C_list = list(1/np.linspace(min_alpha, max_alpha, num=n_candidates))\n",
    "\n",
    "    # Set n_jobs to be -1 to run LogisticRegressionCV on all CPU cores.\n",
    "    clf_optimal = LogisticRegressionCV(Cs=C_list, cv=kfolds, penalty='l1', solver='saga', max_iter=5000, random_state=1, n_jobs=-1).fit(X,y)\n",
    "\n",
    "        # y_test_actual is the actual values of the DV in the test partition\n",
    "    y_test_actual = df_testData[DV]\n",
    "\n",
    "    # X_test is the predictor values in the test partition\n",
    "    X_test = df_testData.drop(columns=[DV])\n",
    "\n",
    "    # Use predict method of the clf_optimal object to apply the model associated with clf_optimal to the test partition\n",
    "    # y_test_predicted is the predicted values of the DV in the test partition \n",
    "    y_test_predicted = clf_optimal.predict(X_test)\n",
    "    \n",
    "    def summary_coef(model_object):\n",
    "        n_predictors = X.shape[1]\n",
    "        model_coef = pd.DataFrame(model_object.coef_.reshape(1, n_predictors), columns=X.columns.values)\n",
    "        model_coef['Intercept'] = model_object.intercept_\n",
    "        return model_coef.transpose()\n",
    "\n",
    "    print(summary_coef(clf_optimal))\n",
    "    \n",
    "    print(metrics.confusion_matrix(y_test_actual, y_test_predicted))\n",
    "    print(clf_optimal.score(X_test, y_test_actual))\n",
    "    \n",
    "    return clf_optimal"
   ]
  },
  {
   "cell_type": "code",
   "execution_count": 5,
   "metadata": {},
   "outputs": [
    {
     "name": "stdout",
     "output_type": "stream",
     "text": [
      "                  0\n",
      "score      0.372495\n",
      "day_1      0.000000\n",
      "day_2      0.000000\n",
      "day_3     -0.356276\n",
      "day_6      0.223397\n",
      "Intercept -0.320488\n",
      "[[29  2]\n",
      " [18  1]]\n",
      "0.6\n"
     ]
    },
    {
     "data": {
      "text/plain": [
       "LogisticRegressionCV(Cs=[1000.0, 9.891284975940117, 4.970223436170689,\n",
       "                         3.3189809831359884, 2.491302884075861,\n",
       "                         1.9940358567168468, 1.6622489779415066,\n",
       "                         1.4251232539030403, 1.2472050247755593,\n",
       "                         1.1087803416242135, 0.9980129651774395,\n",
       "                         0.9073668377856979, 0.8318158314786088,\n",
       "                         0.7678791316739766, 0.713069733080654,\n",
       "                         0.6655633904158872, 0.6239916351391614,\n",
       "                         0.5873078021989651, 0.5546976897590813,\n",
       "                         0.5255184168165894, 0.4992556143767625,\n",
       "                         0.4754928419050557, 0.4538893409608551,\n",
       "                         0.4341635897114964, 0.41608096710711273,\n",
       "                         0.39944437647092695, 0.38408703204531536,\n",
       "                         0.3698668479347435, 0.35666202898923266,\n",
       "                         0.3443675736046909, ...],\n",
       "                     cv=5, max_iter=5000, n_jobs=-1, penalty='l1',\n",
       "                     random_state=1, solver='saga')"
      ]
     },
     "execution_count": 5,
     "metadata": {},
     "output_type": "execute_result"
    }
   ],
   "source": [
    "logisticRegression(\"MSFT\")"
   ]
  },
  {
   "cell_type": "code",
   "execution_count": 19,
   "metadata": {},
   "outputs": [
    {
     "name": "stdout",
     "output_type": "stream",
     "text": [
      "                  0\n",
      "score      0.000000\n",
      "day_1      0.423441\n",
      "day_2     -0.287589\n",
      "day_3      0.000000\n",
      "day_6      1.120805\n",
      "Intercept -0.223063\n",
      "[[18  9]\n",
      " [13 10]]\n",
      "0.56\n"
     ]
    },
    {
     "data": {
      "text/plain": [
       "LogisticRegressionCV(Cs=[1000.0, 9.891284975940117, 4.970223436170689,\n",
       "                         3.3189809831359884, 2.491302884075861,\n",
       "                         1.9940358567168468, 1.6622489779415066,\n",
       "                         1.4251232539030403, 1.2472050247755593,\n",
       "                         1.1087803416242135, 0.9980129651774395,\n",
       "                         0.9073668377856979, 0.8318158314786088,\n",
       "                         0.7678791316739766, 0.713069733080654,\n",
       "                         0.6655633904158872, 0.6239916351391614,\n",
       "                         0.5873078021989651, 0.5546976897590813,\n",
       "                         0.5255184168165894, 0.4992556143767625,\n",
       "                         0.4754928419050557, 0.4538893409608551,\n",
       "                         0.4341635897114964, 0.41608096710711273,\n",
       "                         0.39944437647092695, 0.38408703204531536,\n",
       "                         0.3698668479347435, 0.35666202898923266,\n",
       "                         0.3443675736046909, ...],\n",
       "                     cv=5, max_iter=5000, n_jobs=-1, penalty='l1',\n",
       "                     random_state=1, solver='saga')"
      ]
     },
     "execution_count": 19,
     "metadata": {},
     "output_type": "execute_result"
    }
   ],
   "source": [
    "logisticRegression(\"AAPL\")"
   ]
  },
  {
   "cell_type": "code",
   "execution_count": 8,
   "metadata": {},
   "outputs": [
    {
     "name": "stdout",
     "output_type": "stream",
     "text": [
      "                  0\n",
      "score     -0.432180\n",
      "day_1      0.000000\n",
      "day_2      0.383076\n",
      "day_3      0.000000\n",
      "day_6      0.647180\n",
      "Intercept -0.068511\n",
      "[[17  6]\n",
      " [ 9 14]]\n",
      "0.6739130434782609\n"
     ]
    },
    {
     "data": {
      "text/plain": [
       "LogisticRegressionCV(Cs=[1000.0, 9.891284975940117, 4.970223436170689,\n",
       "                         3.3189809831359884, 2.491302884075861,\n",
       "                         1.9940358567168468, 1.6622489779415066,\n",
       "                         1.4251232539030403, 1.2472050247755593,\n",
       "                         1.1087803416242135, 0.9980129651774395,\n",
       "                         0.9073668377856979, 0.8318158314786088,\n",
       "                         0.7678791316739766, 0.713069733080654,\n",
       "                         0.6655633904158872, 0.6239916351391614,\n",
       "                         0.5873078021989651, 0.5546976897590813,\n",
       "                         0.5255184168165894, 0.4992556143767625,\n",
       "                         0.4754928419050557, 0.4538893409608551,\n",
       "                         0.4341635897114964, 0.41608096710711273,\n",
       "                         0.39944437647092695, 0.38408703204531536,\n",
       "                         0.3698668479347435, 0.35666202898923266,\n",
       "                         0.3443675736046909, ...],\n",
       "                     cv=5, max_iter=5000, n_jobs=-1, penalty='l1',\n",
       "                     random_state=1, solver='saga')"
      ]
     },
     "execution_count": 8,
     "metadata": {},
     "output_type": "execute_result"
    }
   ],
   "source": [
    "logisticRegression(\"TSLA\")"
   ]
  },
  {
   "cell_type": "code",
   "execution_count": 9,
   "metadata": {},
   "outputs": [
    {
     "name": "stdout",
     "output_type": "stream",
     "text": [
      "                  0\n",
      "score     -0.575841\n",
      "day_1     -0.770558\n",
      "day_2     -0.708939\n",
      "day_3     -1.515383\n",
      "day_6     -0.002853\n",
      "Intercept  0.513239\n",
      "[[16 10]\n",
      " [14 11]]\n",
      "0.5294117647058824\n"
     ]
    },
    {
     "data": {
      "text/plain": [
       "LogisticRegressionCV(Cs=[1000.0, 9.891284975940117, 4.970223436170689,\n",
       "                         3.3189809831359884, 2.491302884075861,\n",
       "                         1.9940358567168468, 1.6622489779415066,\n",
       "                         1.4251232539030403, 1.2472050247755593,\n",
       "                         1.1087803416242135, 0.9980129651774395,\n",
       "                         0.9073668377856979, 0.8318158314786088,\n",
       "                         0.7678791316739766, 0.713069733080654,\n",
       "                         0.6655633904158872, 0.6239916351391614,\n",
       "                         0.5873078021989651, 0.5546976897590813,\n",
       "                         0.5255184168165894, 0.4992556143767625,\n",
       "                         0.4754928419050557, 0.4538893409608551,\n",
       "                         0.4341635897114964, 0.41608096710711273,\n",
       "                         0.39944437647092695, 0.38408703204531536,\n",
       "                         0.3698668479347435, 0.35666202898923266,\n",
       "                         0.3443675736046909, ...],\n",
       "                     cv=5, max_iter=5000, n_jobs=-1, penalty='l1',\n",
       "                     random_state=1, solver='saga')"
      ]
     },
     "execution_count": 9,
     "metadata": {},
     "output_type": "execute_result"
    }
   ],
   "source": [
    "logisticRegression(\"NIO\")"
   ]
  },
  {
   "cell_type": "code",
   "execution_count": 13,
   "metadata": {},
   "outputs": [],
   "source": [
    "def logisticRegressionPredict(ticker):\n",
    "    clf_optimal = logisticRegression(ticker)\n",
    "    df = pd.read_csv(ticker+\"_test.csv\",index_col=0)\n",
    "    #df['Direction'] = df.Movement.apply(lambda x: \"up\" if x>0 else \"down\")\n",
    "    cvar = [\"day\"]\n",
    "    df[cvar] = df[cvar].astype('category')\n",
    "    df = pd.get_dummies(df, prefix_sep='_')\n",
    "    \n",
    "    df2 = df.copy()\n",
    "    rdummies = [\"day_0\"]\n",
    "    df2 = df2.drop(columns=rdummies)\n",
    "    \n",
    "    predicted_results = clf_optimal.predict(df2)\n",
    "    print(predicted_results)\n",
    "    \n",
    "    logReg = pd.DataFrame(predicted_results)\n",
    "    logReg.to_excel(ticker+\"_logReg.xlsx\")"
   ]
  },
  {
   "cell_type": "code",
   "execution_count": 14,
   "metadata": {},
   "outputs": [
    {
     "name": "stdout",
     "output_type": "stream",
     "text": [
      "                  0\n",
      "score     -0.432180\n",
      "day_1      0.000000\n",
      "day_2      0.383076\n",
      "day_3      0.000000\n",
      "day_6      0.647180\n",
      "Intercept -0.068511\n",
      "[[17  6]\n",
      " [ 9 14]]\n",
      "0.6739130434782609\n",
      "[1 0 1 0 0 1 0 1 0 0 1 0 1 1 0 1 1 1 0 0 1 0]\n"
     ]
    }
   ],
   "source": [
    "logisticRegressionPredict(\"TSLA\")"
   ]
  },
  {
   "cell_type": "code",
   "execution_count": 15,
   "metadata": {},
   "outputs": [
    {
     "name": "stdout",
     "output_type": "stream",
     "text": [
      "                  0\n",
      "score     -0.575841\n",
      "day_1     -0.770558\n",
      "day_2     -0.708939\n",
      "day_3     -1.515383\n",
      "day_6     -0.002853\n",
      "Intercept  0.513239\n",
      "[[16 10]\n",
      " [14 11]]\n",
      "0.5294117647058824\n",
      "[0 0 1 1 0 0 0 1 1 0 0 0 1 1 0 0 0 1 1 0 0 0]\n"
     ]
    }
   ],
   "source": [
    "logisticRegressionPredict(\"NIO\")"
   ]
  },
  {
   "cell_type": "code",
   "execution_count": 16,
   "metadata": {},
   "outputs": [
    {
     "name": "stdout",
     "output_type": "stream",
     "text": [
      "                  0\n",
      "score      0.372495\n",
      "day_1      0.000000\n",
      "day_2      0.000000\n",
      "day_3     -0.356276\n",
      "day_6      0.223397\n",
      "Intercept -0.320488\n",
      "[[29  2]\n",
      " [18  1]]\n",
      "0.6\n",
      "[0 0 0 0 0 0 0 0 0 0 0 0 0 0 0 0 0 0 0 0 0 0]\n"
     ]
    }
   ],
   "source": [
    "logisticRegressionPredict(\"MSFT\")"
   ]
  },
  {
   "cell_type": "code",
   "execution_count": 20,
   "metadata": {},
   "outputs": [
    {
     "name": "stdout",
     "output_type": "stream",
     "text": [
      "                  0\n",
      "score      0.000000\n",
      "day_1      0.423441\n",
      "day_2     -0.287589\n",
      "day_3      0.000000\n",
      "day_6      1.120805\n",
      "Intercept -0.223063\n",
      "[[18  9]\n",
      " [13 10]]\n",
      "0.56\n",
      "[0 0 1 0 1 0 0 1 0 1 0 0 1 0 1 0 0 1 0 1 0 0]\n"
     ]
    }
   ],
   "source": [
    "logisticRegressionPredict(\"AAPL\")"
   ]
  },
  {
   "cell_type": "code",
   "execution_count": null,
   "metadata": {},
   "outputs": [],
   "source": []
  }
 ],
 "metadata": {
  "kernelspec": {
   "display_name": "Python 3",
   "language": "python",
   "name": "python3"
  },
  "language_info": {
   "codemirror_mode": {
    "name": "ipython",
    "version": 3
   },
   "file_extension": ".py",
   "mimetype": "text/x-python",
   "name": "python",
   "nbconvert_exporter": "python",
   "pygments_lexer": "ipython3",
   "version": "3.8.3"
  }
 },
 "nbformat": 4,
 "nbformat_minor": 4
}
